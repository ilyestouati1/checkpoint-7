{
 "cells": [
  {
   "cell_type": "code",
   "execution_count": 3,
   "id": "321cee44",
   "metadata": {
    "scrolled": true
   },
   "outputs": [
    {
     "name": "stdout",
     "output_type": "stream",
     "text": [
      "        name  score  attempts qualify\n",
      "0  Anastasia   12.5         1     yes\n",
      "1       Dima    9.0         3      no\n",
      "2  Katherine   16.5         2     yes\n",
      "3      James    NaN         3      no\n",
      "4      Emily    9.0         2      no\n",
      "5    Michael   20.0         3     yes\n",
      "6    Matthew   14.5         1     yes\n",
      "7      Laura    NaN         1      no\n",
      "8      Kevin    8.0         2      no\n",
      "9      Jonas   19.0         1     yes\n"
     ]
    }
   ],
   "source": [
    "#question 1\n",
    "import numpy as np\n",
    "import pandas as pd\n",
    "dic = {'name': ['Anastasia', 'Dima', 'Katherine', 'James', 'Emily', 'Michael', 'Matthew', 'Laura', 'Kevin', 'Jonas'],\n",
    "'score': [12.5, 9, 16.5, np.nan, 9, 20, 14.5, np.nan, 8, 19],\n",
    "'attempts': [1, 3, 2, 3, 2, 3, 1, 1, 2, 1],\n",
    "'qualify': ['yes', 'no', 'yes', 'no', 'no', 'yes', 'yes', 'no', 'no', 'yes']}\n",
    "labels_array=['a','b','c','d','e','f','g','h','i','j']\n",
    "df=pd.DataFrame(dic)\n",
    "print (df)"
   ]
  },
  {
   "cell_type": "code",
   "execution_count": 9,
   "id": "01c9372d",
   "metadata": {},
   "outputs": [
    {
     "name": "stdout",
     "output_type": "stream",
     "text": [
      "        name  score  attempts qualify\n",
      "0  Anastasia   12.5         1     yes\n",
      "1       Dima    9.0         3      no\n",
      "2  Katherine   16.5         2     yes\n"
     ]
    }
   ],
   "source": [
    "#question 1\n",
    "print (df.head(3))"
   ]
  },
  {
   "cell_type": "code",
   "execution_count": 10,
   "id": "b3f1a994",
   "metadata": {},
   "outputs": [
    {
     "name": "stdout",
     "output_type": "stream",
     "text": [
      "        name  score  attempts qualify\n",
      "0  Anastasia   12.5         1     yes\n",
      "1       Dima    9.0         3      no\n",
      "2  Katherine   16.5         2     yes\n",
      "4      Emily    9.0         2      no\n",
      "5    Michael   20.0         3     yes\n",
      "6    Matthew   14.5         1     yes\n",
      "8      Kevin    8.0         2      no\n",
      "9      Jonas   19.0         1     yes\n"
     ]
    }
   ],
   "source": [
    "#question 2\n",
    "print (df.dropna())"
   ]
  },
  {
   "cell_type": "code",
   "execution_count": 15,
   "id": "fe83fce4",
   "metadata": {},
   "outputs": [
    {
     "name": "stdout",
     "output_type": "stream",
     "text": [
      "        name  score\n",
      "0  Anastasia   12.5\n",
      "1       Dima    9.0\n",
      "2  Katherine   16.5\n",
      "3      James    NaN\n",
      "4      Emily    9.0\n",
      "5    Michael   20.0\n",
      "6    Matthew   14.5\n",
      "7      Laura    NaN\n",
      "8      Kevin    8.0\n",
      "9      Jonas   19.0\n"
     ]
    }
   ],
   "source": [
    "#question 3\n",
    "print (df.loc[:,('name','score')])"
   ]
  },
  {
   "cell_type": "code",
   "execution_count": 19,
   "id": "0fe03bfa",
   "metadata": {},
   "outputs": [
    {
     "name": "stdout",
     "output_type": "stream",
     "text": [
      "        name score attempts qualify\n",
      "0  Anastasia  12.5        1     yes\n",
      "1       Dima   9.0        3      no\n",
      "2  Katherine  16.5        2     yes\n",
      "3      James   NaN        3      no\n",
      "4      Emily   9.0        2      no\n",
      "5    Michael  20.0        3     yes\n",
      "6    Matthew  14.5        1     yes\n",
      "7      Laura   NaN        1      no\n",
      "8      Kevin   8.0        2      no\n",
      "9      Jonas  19.0        1     yes\n",
      "k     Suresh  15.5        1     yes\n"
     ]
    }
   ],
   "source": [
    "#question 4\n",
    "dic2={'name':[\"Suresh\"],\n",
    "     'score':[\"15.5\"],\n",
    "     'attempts':[\"1\"],\n",
    "     'qualify':[\"yes\"]}\n",
    "dfm=pd.DataFrame(dic2)\n",
    "dfm.index=[\"k\"]\n",
    "newdf=pd.concat([df,dfm])\n",
    "print (newdf)"
   ]
  },
  {
   "cell_type": "code",
   "execution_count": 20,
   "id": "9abdc366",
   "metadata": {},
   "outputs": [
    {
     "name": "stdout",
     "output_type": "stream",
     "text": [
      "        name score qualify\n",
      "0  Anastasia  12.5     yes\n",
      "1       Dima   9.0      no\n",
      "2  Katherine  16.5     yes\n",
      "3      James   NaN      no\n",
      "4      Emily   9.0      no\n",
      "5    Michael  20.0     yes\n",
      "6    Matthew  14.5     yes\n",
      "7      Laura   NaN      no\n",
      "8      Kevin   8.0      no\n",
      "9      Jonas  19.0     yes\n",
      "k     Suresh  15.5     yes\n"
     ]
    }
   ],
   "source": [
    "#question 5\n",
    "print (newdf.drop(\"attempts\",axis=1))"
   ]
  },
  {
   "cell_type": "code",
   "execution_count": 25,
   "id": "88a20510",
   "metadata": {},
   "outputs": [
    {
     "ename": "TypeError",
     "evalue": "'>' not supported between instances of 'str' and 'int'",
     "output_type": "error",
     "traceback": [
      "\u001b[1;31m---------------------------------------------------------------------------\u001b[0m",
      "\u001b[1;31mTypeError\u001b[0m                                 Traceback (most recent call last)",
      "\u001b[1;32m<ipython-input-25-730d43af2e36>\u001b[0m in \u001b[0;36m<module>\u001b[1;34m\u001b[0m\n\u001b[0;32m      3\u001b[0m \u001b[0mlist\u001b[0m\u001b[1;33m=\u001b[0m\u001b[1;33m[\u001b[0m\u001b[1;33m]\u001b[0m\u001b[1;33m\u001b[0m\u001b[1;33m\u001b[0m\u001b[0m\n\u001b[0;32m      4\u001b[0m \u001b[1;32mfor\u001b[0m \u001b[0mi\u001b[0m \u001b[1;32min\u001b[0m \u001b[0mscore\u001b[0m \u001b[1;33m:\u001b[0m\u001b[1;33m\u001b[0m\u001b[1;33m\u001b[0m\u001b[0m\n\u001b[1;32m----> 5\u001b[1;33m     \u001b[1;32mif\u001b[0m \u001b[0mi\u001b[0m\u001b[1;33m>\u001b[0m\u001b[1;36m10\u001b[0m\u001b[1;33m:\u001b[0m\u001b[1;33m\u001b[0m\u001b[1;33m\u001b[0m\u001b[0m\n\u001b[0m\u001b[0;32m      6\u001b[0m         \u001b[0mlist\u001b[0m\u001b[1;33m.\u001b[0m\u001b[0mappend\u001b[0m\u001b[1;33m(\u001b[0m\u001b[1;36m1\u001b[0m\u001b[1;33m)\u001b[0m\u001b[1;33m\u001b[0m\u001b[1;33m\u001b[0m\u001b[0m\n\u001b[0;32m      7\u001b[0m     \u001b[1;32melse\u001b[0m\u001b[1;33m:\u001b[0m \u001b[0mlist_add\u001b[0m\u001b[1;33m.\u001b[0m\u001b[0mappend\u001b[0m\u001b[1;33m(\u001b[0m\u001b[1;36m0\u001b[0m\u001b[1;33m)\u001b[0m\u001b[1;33m\u001b[0m\u001b[1;33m\u001b[0m\u001b[0m\n",
      "\u001b[1;31mTypeError\u001b[0m: '>' not supported between instances of 'str' and 'int'"
     ]
    }
   ],
   "source": [
    "#question 6\n",
    "score=newdf.loc[:,('score')]\n",
    "list=[]\n",
    "for i in score :\n",
    "    if i>10:\n",
    "        list.append(1)\n",
    "    else: list_add.append(0)\n",
    "newdf['Success']=list\n",
    "print(\"this is your new dataframe:\")\n",
    "print(newdf)"
   ]
  },
  {
   "cell_type": "code",
   "execution_count": 27,
   "id": "a88d4f28",
   "metadata": {},
   "outputs": [
    {
     "name": "stdout",
     "output_type": "stream",
     "text": [
      "        name score attempts qualify\n",
      "0  Anastasia  12.5        1     yes\n",
      "1       Dima   9.0        3      no\n",
      "2  Katherine  16.5        2     yes\n",
      "3      James   NaN        3      no\n",
      "4      Emily   9.0        2      no\n",
      "5    Michael  20.0        3     yes\n",
      "6    Matthew  14.5        1     yes\n",
      "7      Laura   NaN        1      no\n",
      "8      Kevin   8.0        2      no\n",
      "9      Jonas  19.0        1     yes\n",
      "k     Suresh  15.5        1     yes\n"
     ]
    }
   ],
   "source": [
    "#question 7\n",
    "newdf.to_csv('my_data')\n",
    "print (newdf)"
   ]
  },
  {
   "cell_type": "code",
   "execution_count": null,
   "id": "8354079e",
   "metadata": {},
   "outputs": [],
   "source": []
  }
 ],
 "metadata": {
  "kernelspec": {
   "display_name": "Python 3",
   "language": "python",
   "name": "python3"
  },
  "language_info": {
   "codemirror_mode": {
    "name": "ipython",
    "version": 3
   },
   "file_extension": ".py",
   "mimetype": "text/x-python",
   "name": "python",
   "nbconvert_exporter": "python",
   "pygments_lexer": "ipython3",
   "version": "3.8.8"
  }
 },
 "nbformat": 4,
 "nbformat_minor": 5
}
